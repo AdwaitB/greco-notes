{
 "cells": [
  {
   "cell_type": "code",
   "execution_count": 1,
   "metadata": {},
   "outputs": [
    {
     "data": {
      "text/html": [
       "<script>\n",
       "code_show=true; \n",
       "function code_toggle() {\n",
       " if (code_show){\n",
       " $('div.input').hide();\n",
       " } else {\n",
       " $('div.input').show();\n",
       " }\n",
       " code_show = !code_show\n",
       "} \n",
       "$( document ).ready(code_toggle);\n",
       "</script>\n",
       "The raw code for this IPython notebook is by default hidden for easier reading.\n",
       "To toggle on/off the raw code, click <a href=\"javascript:code_toggle()\">here</a>."
      ],
      "text/plain": [
       "<IPython.core.display.HTML object>"
      ]
     },
     "execution_count": 1,
     "metadata": {},
     "output_type": "execute_result"
    }
   ],
   "source": [
    "import numpy as np\n",
    "import pandas as pd\n",
    "import json\n",
    "import seaborn as sb\n",
    "\n",
    "import matplotlib.pyplot as plt\n",
    "\n",
    "plot_size = (12, 8)\n",
    "sb.set_style('darkgrid')\n",
    "\n",
    "from IPython.display import HTML\n",
    "\n",
    "HTML('''<script>\n",
    "code_show=true; \n",
    "function code_toggle() {\n",
    " if (code_show){\n",
    " $('div.input').hide();\n",
    " } else {\n",
    " $('div.input').show();\n",
    " }\n",
    " code_show = !code_show\n",
    "} \n",
    "$( document ).ready(code_toggle);\n",
    "</script>\n",
    "The raw code for this IPython notebook is by default hidden for easier reading.\n",
    "To toggle on/off the raw code, click <a href=\"javascript:code_toggle()\">here</a>.''')"
   ]
  },
  {
   "cell_type": "code",
   "execution_count": 2,
   "metadata": {},
   "outputs": [],
   "source": [
    "def plot(plt, xlabel, ylabel=\"Count of Entries\"):\n",
    "    plt.xlabel(xlabel)\n",
    "    plt.ylabel(ylabel)\n",
    "    plt.grid(True)\n",
    "    plt.show()\n",
    "    \n",
    "def plot_hist(d, bins, xlabel, take_log=True):\n",
    "    total_points = len(d)\n",
    "    removed_points = 0\n",
    "    if(take_log):\n",
    "        removed_points = removed_points + sum(d <= 0)\n",
    "        d = d[d > 0]\n",
    "        d = np.log10(d)\n",
    "        xlabel = \"Log of \" + xlabel\n",
    "    removed_points = removed_points + sum(d > bins[1]) + sum(d < bins[0])\n",
    "    \n",
    "    plt.figure(figsize=plot_size)\n",
    "    plt.hist(d, bins=np.arange(bins[0], bins[1], bins[2]))\n",
    "    plot(plt, xlabel)\n",
    "    print(\"% Points removed : \" + str(removed_points/total_points))\n",
    "    \n",
    "def normalize(d):\n",
    "    return (d-min(d))/(max(d) - min(d))"
   ]
  },
  {
   "cell_type": "code",
   "execution_count": 3,
   "metadata": {},
   "outputs": [],
   "source": [
    "data_batsim = pd.read_csv(\"../transient/23-04_2w_static/batsim_staging_static.csv\")\n",
    "data_batsim = data_batsim[data_batsim['profile'] != \"LAST_NOTIFY_profile\"]\n",
    "\n",
    "data_workload = []\n",
    "with open('../transient/23-04_2w_static/workload.json') as json_file: \n",
    "    data_workload = json.load(json_file)\n",
    "data_workload = pd.DataFrame(data_workload['jobs'])\n",
    "data_workload = data_workload[data_workload['profile'] != \"LAST_NOTIFY_profile\"]\n",
    "\n",
    "data_csv = pd.read_csv(\"../transient/23-04_2w_static/23_04_2w.csv\")\n",
    "data_csv = data_csv[data_csv['transfer_history.actually_transferred_size'] != 0]"
   ]
  },
  {
   "cell_type": "code",
   "execution_count": 4,
   "metadata": {},
   "outputs": [
    {
     "name": "stdout",
     "output_type": "stream",
     "text": [
      "Length of data : (2152, 26)\n"
     ]
    }
   ],
   "source": [
    "data = pd.merge(data_workload, data_batsim, how='inner', on=['profile'])\n",
    "print(\"Length of data : \" + str(data.shape))\n",
    "data['real_time_normalized'] = normalize(data['time_taken'])\n",
    "data['batsim_time_normalized'] = normalize(data['execution_time'])\n",
    "\n",
    "data['time_diff'] = data['time_taken'] - data['execution_time']\n",
    "data['normalized_time_diff'] = data['real_time_normalized'] - data['batsim_time_normalized']"
   ]
  },
  {
   "cell_type": "code",
   "execution_count": 5,
   "metadata": {},
   "outputs": [
    {
     "data": {
      "image/png": "[encoded data removed]",
      "text/plain": [
       "<Figure size 864x576 with 1 Axes>"
      ]
     },
     "metadata": {
      "needs_background": "light"
     },
     "output_type": "display_data"
    },
    {
     "name": "stdout",
     "output_type": "stream",
     "text": [
      "% Points removed : 0.01812267657992565\n"
     ]
    }
   ],
   "source": [
    "plot_hist(data['normalized_time_diff'], (-0.025, 0.075, 0.002), \"Diff of normalized influx - normalized batsim time\", take_log=False)"
   ]
  },
  {
   "cell_type": "markdown",
   "metadata": {},
   "source": [
    "More than 98% of points lie in between -0.025 to 0.075. \n",
    "\n",
    "- Thus the error for the normalized difference is less than 5% for more than 98% entries."
   ]
  },
  {
   "cell_type": "code",
   "execution_count": null,
   "metadata": {},
   "outputs": [],
   "source": []
  }
 ],
 "metadata": {
  "kernelspec": {
   "display_name": "Python 3",
   "language": "python",
   "name": "python3"
  },
  "language_info": {
   "codemirror_mode": {
    "name": "ipython",
    "version": 3
   },
   "file_extension": ".py",
   "mimetype": "text/x-python",
   "name": "python",
   "nbconvert_exporter": "python",
   "pygments_lexer": "ipython3",
   "version": "3.7.2"
  }
 },
 "nbformat": 4,
 "nbformat_minor": 1
}
